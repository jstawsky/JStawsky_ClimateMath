{
 "cells": [
  {
   "cell_type": "markdown",
   "metadata": {
    "id": "_vBS1RlCNRVy"
   },
   "source": [
    "___________\n",
    "# Python Code Version 3.0 for\n",
    "# Climate Mathematics: Theory and Applications - Chapter 6\n",
    "_____________\n",
    "\n",
    "<b> Samuel S.P. Shen and Richard C.J. Somerville\n",
    "____________"
   ]
  },
  {
   "cell_type": "markdown",
   "metadata": {
    "id": "FKQe9Q-lNRV3"
   },
   "source": [
    "This Version 3.0 is authored by Briana Ramirez, edited by Samuel Shen. Liu Yang, Sandra Villamar, and Joaquin Stawsky contributed codes to this version.\n",
    "\n",
    "Video tutorial for the python code can be found at the following URL:\n",
    "https://www.youtube.com/channel/UC7D9i0kBMzPTHyEhU0h6W9g\n",
    "\n",
    "This version is based upon the previous version described in the following box."
   ]
  },
  {
   "cell_type": "code",
   "execution_count": 1,
   "metadata": {
    "id": "vBwTg9YeNRV4"
   },
   "outputs": [],
   "source": [
    "######################################################################################################################\n",
    "#This Python Code for Climate Science is written for the book entitled \"Climate Mathematics: Theory and Applications\"#\n",
    "#A Cambridge University Press book authored by SSP Shen and RCJ Somerville in July 2019                              #\n",
    "#The Python codes were based on the R codes written by Samuel Shen Distinguished Professor,                          #\n",
    "#San Diego State University, USA and were translated from R by Louis Selstad, Stephen Shen,                          #\n",
    "#Gregori Clarke, and Dakota Newmann and edited by Samuel Shen.                                                       #\n",
    "######################################################################################################################"
   ]
  },
  {
   "cell_type": "code",
   "execution_count": 2,
   "metadata": {
    "id": "t1l0ZmemNRV5"
   },
   "outputs": [],
   "source": [
    "#FIRST TIME Python users*****\n",
    "#These package need to be installed (on the terminal or anaconda interface) before importing them below. \n",
    "\n",
    "#Follow this tutorial for package installation before\n",
    "# https://towardsdatascience.com/importerror-no-module-named-xyz-45e4a5339e1b"
   ]
  },
  {
   "cell_type": "code",
   "execution_count": 3,
   "metadata": {
    "id": "RNqtMjjuNRV6"
   },
   "outputs": [],
   "source": [
    "#Change your file path to the folder where your downloaded data is stored\n",
    "#MAC HELP: https://support.apple.com/guide/mac-help/go-directly-to-a-specific-folder-on-mac-mchlp1236/mac\n",
    "#PC HELP: https://www.sony.com/electronics/support/articles/00015251\n",
    "import os\n",
    "# os.chdir(\"/Users/sshen/climmath/data\")\n",
    "os.chdir('/Users/HP/Documents/sshen/climmath/data')"
   ]
  },
  {
   "cell_type": "code",
   "execution_count": 4,
   "metadata": {
    "id": "ULkXfQ9FNRV6",
    "outputId": "cf9e2050-80a8-4dd9-8fba-7ee7a6c77bc5"
   },
   "outputs": [
    {
     "data": {
      "application/javascript": [
       "IPython.OutputArea.prototype._should_scroll = function(lines) {\n",
       "    return false;\n",
       "}\n"
      ],
      "text/plain": [
       "<IPython.core.display.Javascript object>"
      ]
     },
     "metadata": {},
     "output_type": "display_data"
    }
   ],
   "source": [
    "%%javascript\n",
    "IPython.OutputArea.prototype._should_scroll = function(lines) {\n",
    "    return false;\n",
    "}"
   ]
  },
  {
   "cell_type": "code",
   "execution_count": 5,
   "metadata": {
    "id": "TAJAFCDbNRV7"
   },
   "outputs": [],
   "source": [
    "#Style Dictionary to standardize plotting scheme between different python scripts \n",
    "import matplotlib.pyplot as plt\n",
    "\n",
    "styledict = {'xtick.labelsize':20,\n",
    "             'xtick.major.size':9,\n",
    "             'xtick.major.width':1,\n",
    "             'ytick.labelsize':20,\n",
    "             'ytick.major.size':9,\n",
    "             'ytick.major.width':1,\n",
    "             'legend.framealpha':0.0,\n",
    "             'legend.fontsize':15,\n",
    "             'axes.labelsize':20,\n",
    "             'axes.titlesize':25,\n",
    "             'axes.linewidth':2,\n",
    "             'figure.figsize':(12,8),\n",
    "             'savefig.format':'jpg'}\n",
    "plt.rcParams.update(**styledict)"
   ]
  },
  {
   "cell_type": "code",
   "execution_count": 6,
   "metadata": {
    "id": "mEJ4z9flNRV8"
   },
   "outputs": [],
   "source": [
    "#Function that creates personalized discrete Colormap\n",
    "import numpy as np \n",
    "from matplotlib import cm as cm1\n",
    "from matplotlib.colors import ListedColormap, to_rgba\n",
    "\n",
    "def newColMap(colors):\n",
    "    \"\"\"\n",
    "    This function creates a new color map from a list of colors given\n",
    "    as a parameter. Recommended length of list of colors is at least 6.\n",
    "    \"\"\"\n",
    "    first = np.repeat([to_rgba(colors[0])], 2, axis = 0)\n",
    "    last = np.repeat([to_rgba(colors[-1])], 2, axis = 0)\n",
    "    v = cm1.get_cmap('viridis', 16*(len(colors)-2))\n",
    "    newcolors = v(np.linspace(0, 1, 16*(len(colors)-2)))\n",
    "    for (i, col) in enumerate(colors[1:-1]):\n",
    "        newcolors[16*i : 16*(i+1), :] = to_rgba(col)\n",
    "    return ListedColormap(np.append(np.append(first,newcolors, axis=0), last, axis=0))\n"
   ]
  },
  {
   "cell_type": "markdown",
   "metadata": {
    "id": "lQASx6AwNRWr"
   },
   "source": [
    "\n",
    "_______\n",
    "# Chapter 6: Calculus Applications to Climate Science: Derivatives\n",
    "_______\n"
   ]
  },
  {
   "cell_type": "code",
   "execution_count": 7,
   "metadata": {
    "id": "mEi7my0JNRWr"
   },
   "outputs": [],
   "source": [
    "import numpy as np \n",
    "import matplotlib\n",
    "from matplotlib import cm\n",
    "import matplotlib.pyplot as plt\n",
    "import pandas as pd\n",
    "import warnings\n",
    "import os\n",
    "warnings.filterwarnings(\"ignore\")\n",
    "from scipy import optimize as opt\n",
    "import sympy as sm\n",
    "from sympy import symbols, diff\n",
    "import math"
   ]
  },
  {
   "cell_type": "markdown",
   "metadata": {
    "id": "suzIYyhMNRWr"
   },
   "source": [
    "_____\n",
    "# 6.1: Stefan-Boltzmann Law and Budyko's Approximation\n",
    "_____"
   ]
  },
  {
   "cell_type": "code",
   "execution_count": 8,
   "metadata": {
    "id": "iWI1aYVmNRWs",
    "outputId": "6a51882c-b135-4d79-b62b-5f9f2dc37e7c"
   },
   "outputs": [
    {
     "data": {
      "image/png": "[encoded data removed]",
      "text/plain": [
       "<Figure size 864x576 with 1 Axes>"
      ]
     },
     "metadata": {
      "needs_background": "light"
     },
     "output_type": "display_data"
    }
   ],
   "source": [
    "#Fig 6.1\n",
    "# Cess' Budyko Parameters \n",
    "A = 212\n",
    "B = 1.6 \n",
    "ep = 0.6 \n",
    "sg = 5.670367e-8\n",
    "T = np.linspace(-50,50,10*100)\n",
    "S = 1365\n",
    "alf = 0.3\n",
    "\n",
    "# Plot the Data \n",
    "plt.plot(T, A+B*T, \"k-\", linewidth=3, label=\"Budyko Radiation Formula\")\n",
    "plt.plot(T, ep*sg*(273.15+T)**4, \"b-\", linewidth=3, label=\"Stefan-Boltzmann Radiation Law\")\n",
    "plt.plot(T, 189.4+2.77*T, \"m-\", linewidth=3, label=\"Linear Approximation of Stefan-Boltzmann Law\")\n",
    "plt.plot(T, (1-alf)*S/4*np.repeat(1,len(T)), \"r-\", linewidth=3, label=\"Observed Outgoing Radiation\")\n",
    "\n",
    "# Add line Labels \n",
    "plt.text(-49,180,\"Budyko Formula\",size=18, color=\"k\")\n",
    "plt.text(8,350,\"Stefan-Boltzmann Law\",size=18, color=\"b\")\n",
    "plt.text(-32,80,\"Linear Approximation of Stefan-Boltzmann Law\",size=18, color=\"m\")\n",
    "plt.text(-40,250,\"E$_{out}=239$[Wm$^{-2}$]\",size=18, color=\"r\")\n",
    "\n",
    "# Modify Plot parameters\n",
    "plt.title(\"Radiation Law and Its Approximations\", pad = 10)\n",
    "plt.xlabel(\"Temperature T[$\\degree$C]\")\n",
    "plt.ylabel(\"Outgoing Radiation: E$_{out}$ [Wm$^{-2}$]\")\n",
    "plt.ylim(0,500)\n",
    "plt.legend(loc='upper left', fontsize=\"x-large\")\n",
    "# plt.grid()\n",
    "plt.show()"
   ]
  },
  {
   "cell_type": "markdown",
   "metadata": {
    "id": "UCPiilLnNRWs"
   },
   "source": [
    "_____\n",
    "# 6.2: Linear Approximation\n",
    "_____"
   ]
  },
  {
   "cell_type": "markdown",
   "metadata": {
    "id": "hS-fPmfANRWs"
   },
   "source": [
    "Linear approximation of $$f(x)=(1+x)^4$$ by $$L(x)=1+4x$$"
   ]
  },
  {
   "cell_type": "code",
   "execution_count": 9,
   "metadata": {
    "id": "nj5fkyV9NRWs",
    "outputId": "47f1f1d6-95e3-483c-89e9-8fb1fa843771"
   },
   "outputs": [
    {
     "data": {
      "text/html": [
       "<div>\n",
       "<style scoped>\n",
       "    .dataframe tbody tr th:only-of-type {\n",
       "        vertical-align: middle;\n",
       "    }\n",
       "\n",
       "    .dataframe tbody tr th {\n",
       "        vertical-align: top;\n",
       "    }\n",
       "\n",
       "    .dataframe thead th {\n",
       "        text-align: right;\n",
       "    }\n",
       "</style>\n",
       "<table border=\"1\" class=\"dataframe\">\n",
       "  <thead>\n",
       "    <tr style=\"text-align: right;\">\n",
       "      <th></th>\n",
       "      <th>x</th>\n",
       "      <th>f(x)</th>\n",
       "      <th>L(x)</th>\n",
       "      <th>Error[%]</th>\n",
       "    </tr>\n",
       "  </thead>\n",
       "  <tbody>\n",
       "    <tr>\n",
       "      <th>0</th>\n",
       "      <td>-0.3</td>\n",
       "      <td>0.2401</td>\n",
       "      <td>-0.2</td>\n",
       "      <td>183.3</td>\n",
       "    </tr>\n",
       "    <tr>\n",
       "      <th>1</th>\n",
       "      <td>-0.2</td>\n",
       "      <td>0.4096</td>\n",
       "      <td>0.2</td>\n",
       "      <td>51.2</td>\n",
       "    </tr>\n",
       "    <tr>\n",
       "      <th>2</th>\n",
       "      <td>-0.1</td>\n",
       "      <td>0.6561</td>\n",
       "      <td>0.6</td>\n",
       "      <td>8.6</td>\n",
       "    </tr>\n",
       "    <tr>\n",
       "      <th>3</th>\n",
       "      <td>0.0</td>\n",
       "      <td>1.0000</td>\n",
       "      <td>1.0</td>\n",
       "      <td>0.0</td>\n",
       "    </tr>\n",
       "    <tr>\n",
       "      <th>4</th>\n",
       "      <td>0.1</td>\n",
       "      <td>1.4641</td>\n",
       "      <td>1.4</td>\n",
       "      <td>4.4</td>\n",
       "    </tr>\n",
       "    <tr>\n",
       "      <th>5</th>\n",
       "      <td>0.2</td>\n",
       "      <td>2.0736</td>\n",
       "      <td>1.8</td>\n",
       "      <td>13.2</td>\n",
       "    </tr>\n",
       "    <tr>\n",
       "      <th>6</th>\n",
       "      <td>0.3</td>\n",
       "      <td>2.8561</td>\n",
       "      <td>2.2</td>\n",
       "      <td>23.0</td>\n",
       "    </tr>\n",
       "  </tbody>\n",
       "</table>\n",
       "</div>"
      ],
      "text/plain": [
       "     x    f(x)  L(x)  Error[%]\n",
       "0 -0.3  0.2401  -0.2     183.3\n",
       "1 -0.2  0.4096   0.2      51.2\n",
       "2 -0.1  0.6561   0.6       8.6\n",
       "3  0.0  1.0000   1.0       0.0\n",
       "4  0.1  1.4641   1.4       4.4\n",
       "5  0.2  2.0736   1.8      13.2\n",
       "6  0.3  2.8561   2.2      23.0"
      ]
     },
     "execution_count": 9,
     "metadata": {},
     "output_type": "execute_result"
    }
   ],
   "source": [
    "# Produce table 6.1 \n",
    "x = np.linspace(-0.3,0.3,7)\n",
    "fx = list(range(1,8))\n",
    "lx = list(range(1,8))\n",
    "ex = list(range(1,8))\n",
    "for i in range(7):\n",
    "    fx[i] = (1+x[i])**4\n",
    "    lx[i] = 1+4*x[i]\n",
    "    ex[i] = round(((1+x[i])**4 - (1+4*x[i]))/((1+x[i])**4)*100, 1)\n",
    "\n",
    "pd.set_option('display.max_columns', None)\n",
    "\n",
    "my_tbl = pd.DataFrame({\"x\":x,\"f(x)\":fx, \"L(x)\":lx, \"Error[%]\":ex})\n",
    "\n",
    "my_tbl"
   ]
  },
  {
   "cell_type": "markdown",
   "metadata": {
    "id": "GpivdEfcNRWs"
   },
   "source": [
    "_____\n",
    "# 6.3: Bisection Method for Solving Nonlinear Equations \n",
    "_____"
   ]
  },
  {
   "cell_type": "code",
   "execution_count": 10,
   "metadata": {},
   "outputs": [
    {
     "data": {
      "text/plain": [
       "1.324717957244502"
      ]
     },
     "execution_count": 10,
     "metadata": {},
     "output_type": "execute_result"
    }
   ],
   "source": [
    "def func(x):\n",
    "    return x**3-x-1\n",
    "\n",
    "opt.bisect(func, 0, 2)"
   ]
  },
  {
   "cell_type": "code",
   "execution_count": 11,
   "metadata": {
    "id": "CAlG34UsNRWs",
    "outputId": "ef0516e5-8a3c-4205-b1c7-33bac05f200a"
   },
   "outputs": [
    {
     "data": {
      "text/plain": [
       "0.22074408460503037"
      ]
     },
     "execution_count": 11,
     "metadata": {},
     "output_type": "execute_result"
    }
   ],
   "source": [
    "# Example 6.2\n",
    "def func2(x):\n",
    "    return (1+x)**4 - (2+x)\n",
    "\n",
    "opt.bisect(func2, 0, 2)"
   ]
  },
  {
   "cell_type": "code",
   "execution_count": 12,
   "metadata": {
    "id": "EooMsni8NRWs",
    "outputId": "aa881360-41c2-46a3-9e94-a38d6feafded"
   },
   "outputs": [
    {
     "data": {
      "text/plain": [
       "289.30980607804315"
      ]
     },
     "execution_count": 12,
     "metadata": {},
     "output_type": "execute_result"
    }
   ],
   "source": [
    "# Example 6.3\n",
    "S = 1368\n",
    "ep = 0.6 \n",
    "sg = 5.670367e-8\n",
    "def f2(T):\n",
    "    return ep*sg*T**4 - (1 - (0.5 - 0.2*np.tanh((T-265)/10))) * (S/4)\n",
    "\n",
    "opt.bisect(f2, 270, 300)"
   ]
  },
  {
   "cell_type": "markdown",
   "metadata": {
    "id": "7VIsDeoHNRWs"
   },
   "source": [
    "_____\n",
    "# 6.4: Newton's Method\n",
    "_____"
   ]
  },
  {
   "cell_type": "code",
   "execution_count": 13,
   "metadata": {
    "id": "WH6NFIgGNRWt"
   },
   "outputs": [],
   "source": [
    "# Create Newton Function\n",
    "def newton(f, tol=1e-12, x0=1,N=20):\n",
    "    h = 0.001\n",
    "    i = 1\n",
    "    x1 = x0\n",
    "    p = []\n",
    "    while i <= N:\n",
    "        df_dx = (f(x0+h)-f(x0))/h\n",
    "        x1 = (x0 - (f(x0)/df_dx))\n",
    "        p.append(x1)\n",
    "        i = i + 1\n",
    "        if abs(x1-x0) < tol:\n",
    "            break\n",
    "        x0 = x1\n",
    "    return p[:i-1]"
   ]
  },
  {
   "cell_type": "code",
   "execution_count": 14,
   "metadata": {
    "id": "a_VLH1I9NRWt"
   },
   "outputs": [],
   "source": [
    "# Create test function for input in Newton Function\n",
    "def f(x):\n",
    "    return x**3 + 4*x**2 - 10 "
   ]
  },
  {
   "cell_type": "code",
   "execution_count": 15,
   "metadata": {
    "id": "3N5xQbdaNRWt",
    "outputId": "1229b21c-732f-4585-fffc-a42d97a0b97c"
   },
   "outputs": [
    {
     "data": {
      "text/plain": [
       "[1.454256341032464,\n",
       " 1.368917103772529,\n",
       " 1.3652384598365683,\n",
       " 1.3652300175883723,\n",
       " 1.3652300134161426,\n",
       " 1.3652300134140978,\n",
       " 1.3652300134140969]"
      ]
     },
     "execution_count": 15,
     "metadata": {},
     "output_type": "execute_result"
    }
   ],
   "source": [
    "root = newton(f, tol=1e-12, x0=1,N=10)\n",
    "root"
   ]
  },
  {
   "cell_type": "code",
   "execution_count": 16,
   "metadata": {
    "id": "ejDmQ-x8NRWt",
    "outputId": "83b4d315-84d9-458a-816f-5e4bd77f06cf"
   },
   "outputs": [
    {
     "data": {
      "image/png": "[encoded data removed]",
      "text/plain": [
       "<Figure size 864x576 with 1 Axes>"
      ]
     },
     "metadata": {
      "needs_background": "light"
     },
     "output_type": "display_data"
    }
   ],
   "source": [
    "#Fig 6.2\n",
    "# Illustration of Newton's Method\n",
    "x = np.linspace(0.2,1.7,30)\n",
    "def f(x): return x**3 + 4*x**2 - 10 \n",
    "def g(x): return 3*x**2 + 8*x\n",
    "\n",
    "x0 = 1\n",
    "x1 = 1.4543\n",
    "x2 = 1.3689\n",
    "\n",
    "fig, ax = plt.subplots(frameon=False)\n",
    "\n",
    "# Plot the data\n",
    "plt.plot(x,f(x),\"k-\")\n",
    "plt.plot(np.linspace(0,1.75,100),np.zeros(100), \"k-\")\n",
    "plt.plot(x, f(x0)+g(x0)*(x-x0),\"r--\")\n",
    "plt.plot(x, f(x1)+g(x1)*(x-x1),\"r--\")\n",
    "\n",
    "plt.scatter(1,0,s=30,c=\"k\")\n",
    "plt.scatter(x1,0,s=30,c=\"k\")\n",
    "plt.scatter(x2,0,s=30,c=\"k\")\n",
    "plt.scatter(x1,f(x1), s=30, c=\"r\")\n",
    "plt.scatter(x0,f(x0), s=30, c=\"r\")\n",
    "\n",
    "# Creating Appropriate tick marks on X-Axis\n",
    "plt.text(0.5,0,\"|\")\n",
    "plt.text(0.47,-0.6,\"0.5\", fontsize=18)\n",
    "plt.text(0.96,-0.6,\"1.0\", fontsize=18)\n",
    "plt.text(1.5,0,\"|\")\n",
    "plt.text(1.47,-0.6,\"1.5\", fontsize=18)\n",
    "plt.text(1.7,0,\"|\")\n",
    "plt.text(1.67,-0.6,\"1.7\", fontsize=18)\n",
    "\n",
    "# Add line Labels and text\n",
    "plt.text(0.25,-7.6,\"$y=x^3+4x^2-10$\",size=18, color=\"k\")\n",
    "plt.text(0.97,0.23,\"$x_0$\",size=18, color=\"b\")\n",
    "plt.text(0.87,.9,\"Initial guess\",size=16, color=\"b\")\n",
    "plt.text(x1-0.05,0.25,\"$x_1$\",size=18, color=\"b\")\n",
    "plt.text(x2-0.05,0.25,\"$x_2$\",size=18, color=\"b\")\n",
    "plt.text(0.35,5.2,\"Follow the blue arrows from the initial guess\",size=18, color=\"b\")\n",
    "plt.text(0.60,4.5,\"$x_0 \\Rightarrow P_0 \\Rightarrow x_1 \\Rightarrow P_1 \\Rightarrow x_2 \\Rightarrow ...$\",\n",
    "         size=18, color=\"b\")\n",
    "plt.text(x1+0.01,f(x1)-0.3, \"$P_1$\", color=\"r\",size=18)\n",
    "plt.text(0.4, -11.2, \"Tangent line \\n through $P_0$\", color=\"r\",size=15)\n",
    "plt.text(x0+0.01,f(x0)-0.3, \"$P_0$\", color=\"r\",size=18)\n",
    "plt.text(1.05, -7, \"Tangent line \\n through $P_1$\", color=\"r\",size=15)\n",
    "\n",
    "# Add Descriptive arrows\n",
    "plt.arrow(1,0,0,f(x0)+0.3,head_width=0.02, head_length=0.2,color=\"b\")\n",
    "plt.arrow(1,f(x0),0.42,4.6,head_width=0.02, head_length=0.2,color=\"b\")\n",
    "plt.arrow(x1,0,0,f(x1)-0.3,head_width=0.02, head_length=0.2,color=\"b\")\n",
    "plt.arrow(x1,f(x1),-0.07,-f(x1)+0.3,head_width=0.02, head_length=0.2,color=\"b\")\n",
    "\n",
    "\n",
    "# Modify Plot parameters\n",
    "plt.title(\"Newton's method for finding a root:\")\n",
    "plt.xlim(0,1.75)\n",
    "plt.ylim(-10,6)\n",
    "ax.spines['top'].set_visible(False)\n",
    "ax.spines['bottom'].set_visible(False)\n",
    "ax.spines['right'].set_visible(False)\n",
    "ax.get_xaxis().set_ticks([])\n",
    "\n",
    "plt.show()"
   ]
  },
  {
   "cell_type": "code",
   "execution_count": 17,
   "metadata": {
    "id": "LaZtOn7NNRWt",
    "outputId": "d82787ea-8a8c-4f21-9233-7dde6011b58e"
   },
   "outputs": [
    {
     "data": {
      "text/plain": [
       "[0.5809696800109538,\n",
       " 0.3335992109385367,\n",
       " 0.2359959176632994,\n",
       " 0.22108766698749036,\n",
       " 0.22074474123732507,\n",
       " 0.22074408554093847,\n",
       " 0.22074408460709063,\n",
       " 0.22074408460576125,\n",
       " 0.22074408460575942]"
      ]
     },
     "execution_count": 17,
     "metadata": {},
     "output_type": "execute_result"
    }
   ],
   "source": [
    "def f(x): return (x+1)**4 - (2+x)\n",
    "root = newton(f, N=10)\n",
    "root"
   ]
  },
  {
   "cell_type": "code",
   "execution_count": 18,
   "metadata": {
    "id": "-Y8RPk0cNRWt",
    "outputId": "108af8ad-36bc-486c-9c6f-f43e02d4e94f"
   },
   "outputs": [
    {
     "data": {
      "text/plain": [
       "[235.69658970294506,\n",
       " 234.38606171928143,\n",
       " 234.3817655891268,\n",
       " 234.38176551811753,\n",
       " 234.3817655181173]"
      ]
     },
     "execution_count": 18,
     "metadata": {},
     "output_type": "execute_result"
    }
   ],
   "source": [
    "# Define Parameters \n",
    "S = 1365\n",
    "ep = 0.6\n",
    "sg = 5.670367e-8\n",
    "\n",
    "# Define the function for energy\n",
    "def f3(T): return ep*sg*T**4 - (1 - (0.5 - 0.2*np.tanh((T-265)/10))) * (S/4)\n",
    "\n",
    "# Compute Solutions \n",
    "root1 = newton(f3, x0=220)\n",
    "root1"
   ]
  },
  {
   "cell_type": "code",
   "execution_count": 19,
   "metadata": {
    "id": "KKD9kzmNNRWt",
    "outputId": "40ba4e26-42af-4f48-afa5-1420cf30ba01"
   },
   "outputs": [
    {
     "data": {
      "text/plain": [
       "[262.05664244651985,\n",
       " 264.50704124959947,\n",
       " 264.33780214259644,\n",
       " 264.3376470816254,\n",
       " 264.3376470803433,\n",
       " 264.3376470803433]"
      ]
     },
     "execution_count": 19,
     "metadata": {},
     "output_type": "execute_result"
    }
   ],
   "source": [
    "# Compute Solutions \n",
    "root2 = newton(f3, x0=270)\n",
    "root2"
   ]
  },
  {
   "cell_type": "code",
   "execution_count": 20,
   "metadata": {
    "id": "8ZhkwcoWNRWu",
    "outputId": "02b44ef9-e9fa-4960-ead2-12ba38449157"
   },
   "outputs": [
    {
     "data": {
      "text/plain": [
       "[289.9086198038602,\n",
       " 289.14701243927755,\n",
       " 289.1401590537761,\n",
       " 289.1401583849815,\n",
       " 289.1401583849732,\n",
       " 289.1401583849732]"
      ]
     },
     "execution_count": 20,
     "metadata": {},
     "output_type": "execute_result"
    }
   ],
   "source": [
    "# Compute Solutions \n",
    "root3 = newton(f3, x0=300)\n",
    "root3"
   ]
  },
  {
   "cell_type": "code",
   "execution_count": 21,
   "metadata": {
    "id": "zEYg6842NRWu",
    "outputId": "780cf9fd-419f-44af-f55d-0d82036c001e"
   },
   "outputs": [
    {
     "data": {
      "text/plain": [
       "[827.2552143021114,\n",
       " 623.5422659266504,\n",
       " 474.89725763077905,\n",
       " 372.56214756821834,\n",
       " 313.36499589662805,\n",
       " 292.05532787372726,\n",
       " 289.2231588691877,\n",
       " 289.1402443882009,\n",
       " 289.14015838613426,\n",
       " 289.1401583849732,\n",
       " 289.1401583849732]"
      ]
     },
     "execution_count": 21,
     "metadata": {},
     "output_type": "execute_result"
    }
   ],
   "source": [
    "# Compute Solutions \n",
    "root5 = newton(f3, x0=100)\n",
    "root5"
   ]
  },
  {
   "cell_type": "markdown",
   "metadata": {
    "id": "yhr-qEQsNRWu"
   },
   "source": [
    "_____\n",
    "# 6.5: Examples of Higher-Order Derivatives\n",
    "_____"
   ]
  },
  {
   "cell_type": "code",
   "execution_count": 22,
   "metadata": {
    "id": "HOH5DPQzNRWu",
    "outputId": "1f6d01fc-085b-4058-d2e1-e44b47c817e1"
   },
   "outputs": [
    {
     "data": {
      "text/latex": [
       "$\\displaystyle 2 x$"
      ],
      "text/plain": [
       "2*x"
      ]
     },
     "execution_count": 22,
     "metadata": {},
     "output_type": "execute_result"
    }
   ],
   "source": [
    "x = symbols(\"x\")\n",
    "diff(x**2)"
   ]
  },
  {
   "cell_type": "code",
   "execution_count": 23,
   "metadata": {
    "id": "ngfeVkdmNRWu",
    "outputId": "3181aae1-795a-4f10-8f73-72db014698ab"
   },
   "outputs": [
    {
     "data": {
      "text/latex": [
       "$\\displaystyle - 2.0 \\cdot 2.71828182845905^{- x^{2}} x$"
      ],
      "text/plain": [
       "-2.0*2.71828182845905**(-x**2)*x"
      ]
     },
     "execution_count": 23,
     "metadata": {},
     "output_type": "execute_result"
    }
   ],
   "source": [
    "x = symbols(\"x\")\n",
    "def e(i):\n",
    "    return math.e**i\n",
    "\n",
    "diff(e(-x**2),x)"
   ]
  },
  {
   "cell_type": "code",
   "execution_count": 24,
   "metadata": {
    "id": "LsFNouL3NRWu",
    "outputId": "3f59cf29-b576-478b-c16e-4dfda168e0c6"
   },
   "outputs": [
    {
     "data": {
      "text/latex": [
       "$\\displaystyle - g t + v_{0}$"
      ],
      "text/plain": [
       "-g*t + v0"
      ]
     },
     "execution_count": 24,
     "metadata": {},
     "output_type": "execute_result"
    }
   ],
   "source": [
    "# Higher order derivatives\n",
    "x = symbols(\"x\")\n",
    "g = symbols(\"g\")\n",
    "t = symbols(\"t\")\n",
    "v0 = symbols(\"v0\")\n",
    "h0 = symbols(\"h0\")\n",
    "\n",
    "# First Derivative\n",
    "fst_dev = diff(-g*t**2/2+v0*t+h0,t)\n",
    "fst_dev"
   ]
  },
  {
   "cell_type": "code",
   "execution_count": 25,
   "metadata": {
    "id": "19JiJtUoNRWu",
    "outputId": "d68b72d3-f9c7-4af6-b06a-55ede789b7a0"
   },
   "outputs": [
    {
     "data": {
      "text/latex": [
       "$\\displaystyle - g$"
      ],
      "text/plain": [
       "-g"
      ]
     },
     "execution_count": 25,
     "metadata": {},
     "output_type": "execute_result"
    }
   ],
   "source": [
    "# Second Derivative\n",
    "sec_dev = diff(fst_dev,t)\n",
    "sec_dev"
   ]
  },
  {
   "cell_type": "code",
   "execution_count": 26,
   "metadata": {
    "id": "sSmBAxblNRWv",
    "outputId": "630ecf2b-fb54-47c9-cee0-8513cf9cc8c6"
   },
   "outputs": [
    {
     "data": {
      "text/latex": [
       "$\\displaystyle 0$"
      ],
      "text/plain": [
       "0"
      ]
     },
     "execution_count": 26,
     "metadata": {},
     "output_type": "execute_result"
    }
   ],
   "source": [
    "# Third Derivative\n",
    "thr_dev = diff(sec_dev,t)\n",
    "thr_dev"
   ]
  }
 ],
 "metadata": {
  "kernelspec": {
   "display_name": "Python 3",
   "language": "python",
   "name": "python3"
  },
  "language_info": {
   "codemirror_mode": {
    "name": "ipython",
    "version": 3
   },
   "file_extension": ".py",
   "mimetype": "text/x-python",
   "name": "python",
   "nbconvert_exporter": "python",
   "pygments_lexer": "ipython3",
   "version": "3.8.5"
  }
 },
 "nbformat": 4,
 "nbformat_minor": 4
}
